{
 "cells": [
  {
   "cell_type": "markdown",
   "id": "e53b800a-64a6-401a-92a5-9cb09a017a83",
   "metadata": {},
   "source": [
    "# Prey items found in California drylands\n",
    "\n",
    "This data set follows the various types of arthropod prey found in the California drylands.\n",
    "\n",
    "\n",
    "Cite:\n",
    "\n",
    "Rachel King, Jenna Braun, Michael Westphal, & CJ Lortie. (2023). Compiled occurrence records for prey items of listed species found in California drylands with associated environmental data. Knowledge Network for Biocomplexity. doi:10.5063/F1VM49RH.\n"
   ]
  },
  {
   "cell_type": "code",
   "execution_count": null,
   "id": "744ed0b0-7f5d-4381-92b5-5671bfc70f20",
   "metadata": {},
   "outputs": [],
   "source": [
    "import pandas as pd\n",
    "\n",
    "#read in data\n",
    "pd.read_csv('https://knb.ecoinformatics.org/knb/d1/mn/v2/object/urn%3Auuid%3A3baf7289-bf90-4db3-ad11-58785c09b26e')"
   ]
  },
  {
   "cell_type": "code",
   "execution_count": null,
   "id": "1e7f9903-59ed-4d84-a417-206e4c6a623e",
   "metadata": {},
   "outputs": [],
   "source": [
    "#read in data\n",
    "pd.read_cs"
   ]
  }
 ],
 "metadata": {
  "kernelspec": {
   "display_name": "Anaconda 3 (Base)",
   "language": "python",
   "name": "base"
  },
  "language_info": {
   "codemirror_mode": {
    "name": "ipython",
    "version": 3
   },
   "file_extension": ".py",
   "mimetype": "text/x-python",
   "name": "python",
   "nbconvert_exporter": "python",
   "pygments_lexer": "ipython3",
   "version": "3.9.13"
  }
 },
 "nbformat": 4,
 "nbformat_minor": 5
}
